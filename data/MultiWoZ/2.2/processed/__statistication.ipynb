{
 "cells": [
  {
   "cell_type": "code",
   "execution_count": 6,
   "metadata": {},
   "outputs": [
    {
     "name": "stderr",
     "output_type": "stream",
     "text": [
      "load dataset: 8420it [00:14, 577.08it/s] \n"
     ]
    },
    {
     "data": {
      "image/png": "[encoded data removed]",
      "text/plain": [
       "<Figure size 432x288 with 1 Axes>"
      ]
     },
     "metadata": {
      "needs_background": "light"
     },
     "output_type": "display_data"
    }
   ],
   "source": [
    "import json\n",
    "import matplotlib.pyplot as plt\n",
    "from transformers import AlbertTokenizer\n",
    "from tqdm import tqdm\n",
    "\n",
    "tokenizer = AlbertTokenizer.from_pretrained('/data1/zkh/deepLearning/DST/DiCoS_new/pretrained_models/albert_large')\n",
    "\n",
    "with open('/data1/zkh/deepLearning/DST/DiCoS_new/data/MultiWoZ/2.2/processed/train_dials.json', 'r', encoding='utf-8') as in_:\n",
    "    list_dialogue = json.load(in_)\n",
    "\n",
    "\n",
    "list_turnNum = []\n",
    "list_tokenNum_turn = []\n",
    "list_tokenNum_dialogue = []\n",
    "for dialogueIdx, dict_dialogue in tqdm(enumerate(list_dialogue), 'load dataset'):\n",
    "    '''\n",
    "        {\n",
    "            \"dialogue_idx\": \"MUL0012.json\",\n",
    "            \"domains\": [],\n",
    "            \"dialogue\": []\n",
    "        }\n",
    "                \n",
    "    '''\n",
    "    list_turnNum.append(len(dict_dialogue['dialogue']))\n",
    "\n",
    "    tokenNum_dialogue = 0\n",
    "    for dialogueTurn in dict_dialogue['dialogue']: # 准备要用的轮次\n",
    "        '''\n",
    "            {\n",
    "                \"system_transcript\": \"\",\n",
    "                \"turn_idx\": 0,\n",
    "                \"belief_state\": [],\n",
    "                \"turn_label\": [],\n",
    "                \"transcript\": \"i need information on a hotel that include -s free parking please .\",\n",
    "                \"system_acts\": [],\n",
    "                \"domain\": \"hotel\"\n",
    "            }\n",
    "        '''\n",
    "        sentences = dialogueTurn['system_transcript'] + ';' + dialogueTurn['transcript']\n",
    "        lenTurn = len(tokenizer.tokenize(sentences))\n",
    "        tokenNum_dialogue += lenTurn\n",
    "        list_tokenNum_turn.append(lenTurn)\n",
    "    \n",
    "    list_tokenNum_dialogue.append(tokenNum_dialogue)\n",
    "\n",
    "\n",
    "\n",
    "plt.hist(list_turnNum,100)\n",
    "plt.show()\n",
    "\n",
    "\n"
   ]
  },
  {
   "cell_type": "code",
   "execution_count": 7,
   "metadata": {},
   "outputs": [
    {
     "data": {
      "image/png": "[encoded data removed]",
      "text/plain": [
       "<Figure size 432x288 with 1 Axes>"
      ]
     },
     "metadata": {
      "needs_background": "light"
     },
     "output_type": "display_data"
    }
   ],
   "source": [
    "\n",
    "plt.hist(list_tokenNum_turn,100)\n",
    "plt.show()\n",
    "\n"
   ]
  },
  {
   "cell_type": "code",
   "execution_count": 8,
   "metadata": {},
   "outputs": [
    {
     "data": {
      "image/png": "[encoded data removed]",
      "text/plain": [
       "<Figure size 432x288 with 1 Axes>"
      ]
     },
     "metadata": {
      "needs_background": "light"
     },
     "output_type": "display_data"
    }
   ],
   "source": [
    "plt.hist(list_tokenNum_dialogue, 100)\n",
    "plt.show()"
   ]
  },
  {
   "cell_type": "code",
   "execution_count": null,
   "metadata": {},
   "outputs": [],
   "source": []
  }
 ],
 "metadata": {
  "interpreter": {
   "hash": "3791d1b1b15bec2ec1c47f313d08ef8e781d6db5676039c6831d0b5974e68a2a"
  },
  "kernelspec": {
   "display_name": "Python 3.8.13 ('torch')",
   "language": "python",
   "name": "python3"
  },
  "language_info": {
   "codemirror_mode": {
    "name": "ipython",
    "version": 3
   },
   "file_extension": ".py",
   "mimetype": "text/x-python",
   "name": "python",
   "nbconvert_exporter": "python",
   "pygments_lexer": "ipython3",
   "version": "3.8.13"
  },
  "orig_nbformat": 4
 },
 "nbformat": 4,
 "nbformat_minor": 2
}
